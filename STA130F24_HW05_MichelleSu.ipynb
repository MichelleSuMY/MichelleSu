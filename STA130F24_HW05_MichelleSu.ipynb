{
 "cells": [
  {
   "cell_type": "markdown",
   "id": "f3f01945",
   "metadata": {},
   "source": [
    "# STA130F24 HW5\n",
    "<br>\n",
    "\n",
    "# Prelecture Homework\n",
    "## Question 1\n",
    "\n",
    "### Link to the ChatGPT interaction chat log: <br>https://chatgpt.com/share/67049e5c-e698-8013-82ff-c07137c1fe1e\n",
    "#### <u>Summary of ChatGPT Interaction:</u>\n",
    "\"In this conversation, we discussed the concepts of **hypothesis testing** in statistics. We explored the key factor that differentiates ideas that can be tested statistically, which is **measurability**, allowing data collection and statistical analysis. \n",
    "\n",
    "For a **good null hypothesis**, we noted the criteria of **specificity, testability, falsifiability,** and **neutrality**. The **null hypothesis (H₀)** represents the default assumption or **status quo**, implying no effect or relationship, while the **alternative hypothesis (H₁)** suggests the presence of an effect or difference, which researchers aim to demonstrate through testing.\n",
    "\n",
    "Lastly, we defined **status quo** as the current state of affairs or the default condition that exists unless proven otherwise.\"\n",
    "\n",
    "<br><br><br>\n",
    "For an idea to be testable, it must be measurable and quantifiable so that statistical methods can be applied to compare results to arrive at a conclusion. The key criteria of a good null hypothesis are it should be unambiguous, testable, rejectable and neutral. A good null hypothesis should be a concise statement that can be tested and rejected. Also, it should possess the neutral quality, that is, there is no effect of a variable on another variable. In the context of hypothesis testing, a null hypothesis means that the variables studied on average do not have any effect on each other. On the contrary, an alternative hypothesis contradicts the null hypothesis and suggests that on average, there is an existing relationship between the variables. \n",
    "<br><br><br><br><br>"
   ]
  },
  {
   "cell_type": "markdown",
   "id": "10a50f2f",
   "metadata": {},
   "source": [
    "## Question 2\n",
    "\n",
    "### Link to the ChatGPT interaction chat log: <br>https://chatgpt.com/share/6706ea14-3558-8013-b5f3-f01253d746b3\n",
    "#### <u>Summary of ChatGPT Interaction:</u>\n",
    "\"In this interaction, we discussed several key statistical concepts related to hypothesis testing:\n",
    "\n",
    "1. **Hypothesis Testing and Population Parameters**: The outcome of hypothesis testing refers to the **population parameter** (\\(\\mu\\)) and not the **sample statistic** (\\(\\bar{x}\\)), as the goal is to make inferences about the population based on sample data.\n",
    "\n",
    "2. **Definitions of Key Concepts**:\n",
    "   - **Population Parameter** (\\(\\mu\\)): A fixed but unknown value describing the entire population (e.g., population mean).\n",
    "   - **Sample Statistic** (\\(\\bar{x}\\)): A value calculated from sample data that estimates the population parameter (e.g., sample mean).\n",
    "   - **Inference**: The process of using sample data to make conclusions about the population.\n",
    "\n",
    "3. **Explanation of Terms in Hypothesis Testing**:\n",
    "   - **\\(x_i\\)**: Individual data points in a sample.\n",
    "   - **\\( \\bar{x} \\)**: The sample mean, an estimate of the population mean.\n",
    "   - **\\( \\mu \\)**: The true population mean, usually unknown.\n",
    "   - **\\( \\mu_0 \\)**: The hypothesized population mean under the null hypothesis.\n",
    "\n",
    "These concepts were explained with an example of testing whether the average height of university students is 170 cm, where we compared the sample mean to the hypothesized mean (\\(\\mu_0\\)) to infer whether the true population mean (\\(\\mu\\)) differs.\"\n",
    "\n",
    "<br><br><br>\n",
    "A population parameter is a characteristic of a population. A population is our targeted subject of study, for example if we would like to know the average weight of the people in a village, collectively, the people in the village is our population. Also, in this case, the mean or average weight of the people in the village is our population parameter ($\\mu$). It is hard to find the true mean ($\\mu$) or average weight of the village due to the size of the population, hence we may guess the average as a certain value. We refer to this value as the hypothesized population mean ($\\mu_0$). In hypothesis testing, we try to determine if our null hypothesis ($H_0\\!$ ) is true or false.\n",
    "<br><br>\n",
    "The null hypothesis ($H_0\\!$ ) is a statement or an idea that can be tested using statistical methods. In this case, our null hypothesis ($H_0\\!$ ) refers to our hypothesized population mean ($\\mu_0$) which we are trying to test. In order to estimate the value of the true average weight or population mean ($\\mu$), we need to sample the population for data. Let's say we sampled data from 100 people in the village ($x_i\\!$ is the weight of each participant, hence we have $x_1\\!$ + $x_2\\!$ + ... + $x_{100}$). We can use the data sampled ($x_i\\!$) to calculate the sample mean ($\\bar x$). The sample mean ($\\bar x$) is also referred as the sample statistic as it is a characteristic of a data sample. The sample mean ($\\bar x$) is the average weight of the people being sampled and this may not accurately reflect the true population mean ($\\mu$) or the average weight of the people in the village. In order to estimate the population mean ($\\mu$), we can repeat the process of sampling and calculating the sample means ($\\bar x$) to arrive at a value which more accurately reflects the true population ($\\mu$) mean. In hypothesis testing, we will then compare the hypothesized population mean ($\\mu_0$) with the population mean ($\\mu$) we get from our sample means ($\\bar x$).\n",
    "<br><br>\n",
    "In conclusion, since we are testing to see if the hypothesized population mean ($\\mu_0$) in a null hypothesis ($H_0\\!$ ) is reflective of the true population mean ($\\mu$), the results of the tests will refer to the population parameter ($\\mu$) instead of the sample statistic ($\\bar x$). The sample statistic ($\\bar x$) is only reflective of the data sample and it is used to arrive at an estimation of the population parameter ($\\mu$) in hypothesis testing.\n",
    "<br><br><br><br><br>"
   ]
  },
  {
   "cell_type": "markdown",
   "id": "32cd5ce6",
   "metadata": {},
   "source": [
    "\n",
    "## Question 4\n",
    "\n",
    "### https://chatgpt.com/share/67091642-6d50-8013-ab8d-473bc9d83aef\n",
    "#### <u>Summary of ChatGPT Interaction:</u>\n",
    "\"We discussed key statistical concepts related to hypothesis testing, focusing on the p-value and its relation to the null hypothesis. Specifically, we explored how a smaller p-value indicates stronger evidence against the null hypothesis, making it seem \"more ridiculous\" to believe. We also examined the role of the **test statistic** and its relationship with the **sampling distribution** under the null hypothesis, clarifying that the observed test statistic is compared to this distribution to assess the likelihood of the data occurring by chance. A small p-value implies that the observed test statistic is far from what is expected under the null hypothesis, leading to potential rejection of \\(H_0\\).\"\n",
    "\n",
    "\n",
    "<br><br><br>\n",
    "The p-value is the probability of an observed test statistic happening under the assumption that the null hypothesis is true. The null hypothesis is the idea that there is no effect between variables. When the p-value is very small, it tells us that the probability of an observed test statistic happening is extreme or more than extreme. In a sampling distribution, we can point out such extremities at the tails. Hence, the smaller the p-value, the more evidence there is to reject the null hypothesis. Similarly, if the p-value is high, it informs us that the observed statistic is very likely to happen under the assumption that the null hypothesis is true. This observation will lie somewhere in the centre of the sampling distribution. In other words, the higher the p-value, the less evidence we have to reject the null hypothesis. Hence, the reason why a smaller p-value makes the null-hypothesis look more ridiculous is because it informs us that it is extremely unlikely for the observed statistic to happen if the null-hypothesis is true.\n",
    "<br><br><br><br><br>"
   ]
  }
 ],
 "metadata": {
  "kernelspec": {
   "display_name": "Python 3 (ipykernel)",
   "language": "python",
   "name": "python3"
  },
  "language_info": {
   "codemirror_mode": {
    "name": "ipython",
    "version": 3
   },
   "file_extension": ".py",
   "mimetype": "text/x-python",
   "name": "python",
   "nbconvert_exporter": "python",
   "pygments_lexer": "ipython3",
   "version": "3.11.6"
  }
 },
 "nbformat": 4,
 "nbformat_minor": 5
}
